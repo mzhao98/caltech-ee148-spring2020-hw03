{
 "cells": [
  {
   "cell_type": "markdown",
   "metadata": {},
   "source": [
    "## Import dependencies"
   ]
  },
  {
   "cell_type": "code",
   "execution_count": 3,
   "metadata": {},
   "outputs": [],
   "source": [
    "from __future__ import print_function\n",
    "import numpy as np\n",
    "import torch\n",
    "import torchvision.datasets as datasets\n",
    "import torchvision\n",
    "import matplotlib.pyplot as plt\n",
    "from sklearn.manifold import TSNE\n",
    "import seaborn as sns\n",
    "import matplotlib.patheffects as path_effects\n",
    "import argparse\n",
    "import torch.nn as nn\n",
    "import torch.nn.functional as F\n",
    "import torch.optim as optim\n",
    "from torchvision import datasets, transforms\n",
    "from torch.optim.lr_scheduler import StepLR\n",
    "from torch.utils.data.sampler import SubsetRandomSampler\n",
    "import os\n"
   ]
  },
  {
   "cell_type": "markdown",
   "metadata": {},
   "source": [
    "## Download MNIST"
   ]
  },
  {
   "cell_type": "code",
   "execution_count": null,
   "metadata": {},
   "outputs": [],
   "source": [
    "mnist_dataset = datasets.MNIST(root='./data', train=True, \n",
    "                               transform=None, target_transform=None, download=True)\n"
   ]
  },
  {
   "cell_type": "markdown",
   "metadata": {},
   "source": [
    "## Load in MNIST"
   ]
  },
  {
   "cell_type": "code",
   "execution_count": null,
   "metadata": {},
   "outputs": [],
   "source": [
    "train_dataset = datasets.MNIST(root='./data', train=True, \n",
    "                               transform=None, target_transform=None, download=False)\n",
    "test_dataset = datasets.MNIST(root='./data', train=False, \n",
    "                               transform=None, target_transform=None, download=False)\n"
   ]
  },
  {
   "cell_type": "code",
   "execution_count": null,
   "metadata": {},
   "outputs": [],
   "source": [
    "train_all_loader = torch.utils.data.DataLoader(\n",
    "    train_dataset, batch_size=batch_size\n",
    ")\n",
    "\n",
    "test_loader = torch.utils.data.DataLoader(\n",
    "    train_dataset, batch_size=batch_size\n",
    ")"
   ]
  },
  {
   "cell_type": "markdown",
   "metadata": {},
   "source": [
    "## Partition MNIST"
   ]
  },
  {
   "cell_type": "code",
   "execution_count": null,
   "metadata": {},
   "outputs": [],
   "source": [
    "class_counts = {}\n",
    "for i in range(10):\n",
    "    class_counts[i] = []\n",
    "\n",
    "for batch_idx, (data, target) in enumerate(train_dataset):\n",
    "    class_counts[int(target)].append(batch_idx)\n",
    "    \n",
    "subset_indices_train = np.array([], dtype='int8')\n",
    "subset_indices_valid = np.array([], dtype='int8')\n",
    "\n",
    "np.random.seed(0)\n",
    "for c in class_counts:\n",
    "    t_size = int(len(class_counts[c])*0.85)\n",
    "    t = np.random.choice(class_counts[c], size=t_size)\n",
    "    v = []\n",
    "    for i in range(len(class_counts[c])):\n",
    "        if i not in t:\n",
    "            v.append(int(i))\n",
    "    \n",
    "    subset_indices_train = np.concatenate((subset_indices_train, t), axis=None)\n",
    "    subset_indices_valid = np.concatenate((subset_indices_valid, v), axis=None)"
   ]
  },
  {
   "cell_type": "code",
   "execution_count": null,
   "metadata": {},
   "outputs": [],
   "source": [
    "train_dataset = datasets.MNIST('./data', train=True, download=False,\n",
    "            transform=transforms.Compose([       # Data preprocessing\n",
    "                transforms.ToTensor(),           # Add data augmentation here\n",
    "                transforms.Normalize((0.1307,), (0.3081,))\n",
    "            ]))\n",
    "\n",
    "train_loader = torch.utils.data.DataLoader(\n",
    "    train_dataset, batch_size=batch_size,\n",
    "    sampler=SubsetRandomSampler(subset_indices_train)\n",
    ")\n",
    "val_loader = torch.utils.data.DataLoader(\n",
    "    train_dataset, batch_size=batch_size,\n",
    "    sampler=SubsetRandomSampler(subset_indices_valid)\n",
    ")\n"
   ]
  },
  {
   "cell_type": "markdown",
   "metadata": {},
   "source": [
    "## Set up My Net"
   ]
  },
  {
   "cell_type": "code",
   "execution_count": null,
   "metadata": {},
   "outputs": [],
   "source": [
    "\n",
    "class MyConvNet(nn.Module):\n",
    "\n",
    "    def __init__(self):\n",
    "        super(MyConvNet, self).__init__()\n",
    "        self.conv1 = nn.Conv2d(in_channels=1, out_channels=32, kernel_size=(5,5), stride=1, padding=2, padding_mode = 'reflect')\n",
    "        self.conv2 = nn.Conv2d(in_channels=32, out_channels=32, kernel_size=(5,5), stride=1, padding=2, padding_mode = 'reflect')\n",
    "        self.conv3 = nn.Conv2d(in_channels=32, out_channels=64, kernel_size=(3,3), stride=1, padding=2, padding_mode = 'reflect')\n",
    "        self.conv4 = nn.Conv2d(in_channels=64, out_channels=32, kernel_size=(3,3), stride=1, padding=2, padding_mode = 'reflect')\n",
    "        \n",
    "        self.dropout1 = nn.Dropout2d(0.5)\n",
    "        self.dropout2 = nn.Dropout2d(0.5)\n",
    "        self.fc1 = nn.Linear(128, 96)\n",
    "        self.bn1 = nn.BatchNorm1d(num_features=96)\n",
    "        self.fc2 = nn.Linear(96, 10)\n",
    "\n",
    "    def forward(self, x):\n",
    "        x = self.conv1(x)\n",
    "        x = F.relu(x)\n",
    "        x = F.max_pool2d(x, 2)\n",
    "        x = self.dropout1(x)\n",
    "\n",
    "        x = self.conv2(x)\n",
    "        x = F.relu(x)\n",
    "        x = F.max_pool2d(x, 4)\n",
    "        x = self.dropout2(x)\n",
    "\n",
    "        x = self.conv3(x)\n",
    "        x = F.relu(x)\n",
    "        x = F.avg_pool2d(x, 2)\n",
    "        x = self.dropout2(x)\n",
    "        \n",
    "        x = self.conv4(x)\n",
    "        x = F.relu(x)\n",
    "        x = F.max_pool2d(x, 2)\n",
    "        x = self.dropout2(x)\n",
    "\n",
    "        x = torch.flatten(x, 1)\n",
    "        x = self.fc1(x)\n",
    "        x = self.bn1(x)\n",
    "        \n",
    "        x = F.relu(x)\n",
    "        x = self.fc2(x)\n",
    "\n",
    "        output = F.log_softmax(x, dim=1)\n",
    "        return output"
   ]
  },
  {
   "cell_type": "code",
   "execution_count": null,
   "metadata": {},
   "outputs": [],
   "source": [
    "\n",
    "def ce_train(model,train_loader, optimizer, epoch, log_interval, selected_indices):\n",
    "    '''\n",
    "    This is your training function. When you call this function, the model is\n",
    "    trained for 1 epoch.\n",
    "    '''\n",
    "    model.train()   # Set the model to training mode\n",
    "    total_loss = 0\n",
    "    \n",
    "    for batch_idx, (data, target) in enumerate(train_loader):\n",
    "        if batch_idx not in selected_indices:\n",
    "            continue\n",
    "        data, target = data, target\n",
    "        optimizer.zero_grad()               # Clear the gradient\n",
    "        output = model(data)                # Make predictions\n",
    "        loss = nn.CrossEntropyLoss()\n",
    "        \n",
    "        output_loss = loss(output, target)   # Compute loss\n",
    "        total_loss += output_loss.item()\n",
    "        \n",
    "        output_loss.backward()                     # Gradient computation\n",
    "        optimizer.step()                    # Perform a single optimization step\n",
    "        \n",
    "        \n",
    "        if batch_idx % log_interval == 0:\n",
    "            print('Train Epoch: {} [{}/{} ({:.0f}%)]\\tLoss: {:.6f}'.format(\n",
    "                epoch, batch_idx * len(data), len(train_loader.dataset),\n",
    "                100. * batch_idx / len(train_loader), output_loss))\n",
    "    return total_loss\n",
    "\n",
    "\n",
    "def ce_test(model, test_loader, subset_indices_valid):\n",
    "    model.eval()    # Set the model to inference mode\n",
    "    test_loss = 0\n",
    "    correct = 0\n",
    "    test_loss_ce = 0\n",
    "    with torch.no_grad():   # For the inference step, gradient is not computed\n",
    "        for data, target in test_loader:\n",
    "            data, target = data, target\n",
    "            output = model(data)\n",
    "            test_loss += F.nll_loss(output, target, reduction='sum').item()  # sum up batch loss\n",
    "            pred = output.argmax(dim=1, keepdim=True)  # get the index of the max log-probability\n",
    "            correct += pred.eq(target.view_as(pred)).sum().item()\n",
    "            \n",
    "            ce_loss = nn.CrossEntropyLoss()\n",
    "            output_loss = ce_loss(output, target) \n",
    "            test_loss_ce += output_loss\n",
    "\n",
    "    test_loss /= len(test_loader.dataset)\n",
    "    \n",
    "    total = len(subset_indices_valid)\n",
    "\n",
    "    print('\\nTest set: Average loss: {:.4f}, Accuracy: {}/{} ({:.0f}%)\\n'.format(\n",
    "        test_loss, correct, total,\n",
    "        100. * correct / total))\n",
    "    test_loss_nll = test_loss\n",
    "    \n",
    "    return test_loss_nll, test_loss_ce, correct, total\n",
    "\n"
   ]
  },
  {
   "cell_type": "markdown",
   "metadata": {},
   "source": [
    "## Set training parameters"
   ]
  },
  {
   "cell_type": "code",
   "execution_count": null,
   "metadata": {},
   "outputs": [],
   "source": [
    "batch_size = 32\n",
    "\n",
    "epochs = 20\n",
    "step = 1\n",
    "\n",
    "test_batch_size = 1000\n",
    "lr = 1.0\n",
    "gamma=0.7\n",
    "no_cuda = False\n",
    "seed = 1\n",
    "log_interval = 10\n",
    "evaluate = False\n",
    "save_model = True\n"
   ]
  },
  {
   "cell_type": "markdown",
   "metadata": {},
   "source": [
    "## Train my Network on 1/2 of Training Data"
   ]
  },
  {
   "cell_type": "code",
   "execution_count": null,
   "metadata": {},
   "outputs": [],
   "source": [
    "train_indices = [i[0] for i in enumerate(train_loader)]\n",
    "s = int(0.5 * len(train_indices))\n",
    "selected_indicies = np.random.choice(train_indices, size=s)\n",
    "\n",
    "# Load your model [fcNet, ConvNet, Net]\n",
    "half = MyConvNet()\n",
    "epochs = 15\n",
    "\n",
    "# Try different optimzers here [Adam, SGD, RMSprop]\n",
    "optimizer = optim.RMSprop(half.parameters(), lr=0.001)\n",
    "\n",
    "# Set your learning rate scheduler\n",
    "scheduler = StepLR(optimizer, step_size=step, gamma=gamma)\n",
    "\n",
    "half_model_training_errors = []\n",
    "half_model_nll_test_errors = []\n",
    "half_model_ce_test_errors = []\n",
    "\n",
    "# Training loop\n",
    "for epoch in range(1, epochs + 1):\n",
    "    train_loss = ce_train(half, aug_train_loader, optimizer, epoch, log_interval, selected_indicies)\n",
    "    test_loss_nll, test_loss_ce, _, _ = ce_test(half, aug_val_loader, subset_indices_valid) \n",
    "    \n",
    "    half_model_training_errors.append(train_loss)\n",
    "    half_model_nll_test_errors.append(test_loss_nll)\n",
    "    half_model_ce_test_errors.append(test_loss_ce)\n",
    "    \n",
    "    scheduler.step()    # learning rate scheduler\n",
    "\n",
    "    # You may optionally save your model at each epoch here\n",
    "\n",
    "if save_model:\n",
    "    torch.save(half.state_dict(), \"mnist_model4_half.pt\")\n",
    "    \n",
    "    "
   ]
  },
  {
   "cell_type": "markdown",
   "metadata": {},
   "source": [
    "## Test and visualize results"
   ]
  },
  {
   "cell_type": "code",
   "execution_count": null,
   "metadata": {},
   "outputs": [],
   "source": [
    "test(half, train_loader, subset_indices_valid) \n",
    "test(half, test_loader, subset_indices_valid) \n",
    "\n",
    "x = list(range(1, epochs + 1))\n",
    "y = half_model_training_errors\n",
    "plt.plot(x, y)\n",
    "plt.scatter(x, y)\n",
    "plt.title(\"Half Input: Training Loss over Epoch\")\n",
    "plt.xlabel(\"Epoch\")\n",
    "plt.ylabel(\"Training Loss\")\n",
    "plt.show()\n",
    "\n",
    "x = list(range(1, epochs + 1))\n",
    "y = half_model_nll_test_errors\n",
    "plt.plot(x, y)\n",
    "plt.scatter(x, y)\n",
    "plt.title(\"Half Input: Test Loss over Epoch\")\n",
    "plt.xlabel(\"Epoch\")\n",
    "plt.ylabel(\"Test Loss\")\n",
    "plt.show()"
   ]
  },
  {
   "cell_type": "markdown",
   "metadata": {},
   "source": [
    "## Train on 1/4 of Training data"
   ]
  },
  {
   "cell_type": "code",
   "execution_count": null,
   "metadata": {},
   "outputs": [],
   "source": [
    "# train_indices = [i[0] for i in enumerate(train_loader)]\n",
    "s = int(0.25 * len(train_indices))\n",
    "selected_indicies = np.random.choice(train_indices, size=s)\n",
    "\n",
    "# Load your model [fcNet, ConvNet, Net]\n",
    "quarter = MyConvNet()\n",
    "epochs = 15\n",
    "\n",
    "# Try different optimzers here [Adam, SGD, RMSprop]\n",
    "optimizer = optim.RMSprop(quarter.parameters(), lr=0.001)\n",
    "\n",
    "# Set your learning rate scheduler\n",
    "scheduler = StepLR(optimizer, step_size=step, gamma=gamma)\n",
    "\n",
    "quarter_model_training_errors = []\n",
    "quarter_model_nll_test_errors = []\n",
    "quarter_model_ce_test_errors = []\n",
    "\n",
    "# Training loop\n",
    "for epoch in range(1, epochs + 1):\n",
    "    train_loss = ce_train(quarter, aug_train_loader, optimizer, epoch, log_interval, selected_indicies)\n",
    "    test_loss_nll, test_loss_ce, _, _ = ce_test(quarter, aug_val_loader, subset_indices_valid) \n",
    "    \n",
    "    quarter_model_training_errors.append(train_loss)\n",
    "    quarter_model_nll_test_errors.append(test_loss_nll)\n",
    "    quarter_model_ce_test_errors.append(test_loss_ce)\n",
    "    \n",
    "    scheduler.step()    # learning rate scheduler\n",
    "\n",
    "    # You may optionally save your model at each epoch here\n",
    "\n",
    "if save_model:\n",
    "    torch.save(quarter.state_dict(), \"mnist_model4_quarter.pt\")\n",
    "    \n",
    "    "
   ]
  },
  {
   "cell_type": "markdown",
   "metadata": {},
   "source": [
    "## Test and visualize results"
   ]
  },
  {
   "cell_type": "code",
   "execution_count": null,
   "metadata": {},
   "outputs": [],
   "source": [
    "test(quarter, train_loader, subset_indices_valid) \n",
    "test(quarter, test_loader, subset_indices_valid) \n",
    "\n",
    "x = list(range(1, epochs + 1))\n",
    "y = quarter_model_training_errors\n",
    "plt.plot(x, y)\n",
    "plt.scatter(x, y)\n",
    "plt.title(\"Quarter Input: Training Loss over Epoch\")\n",
    "plt.xlabel(\"Epoch\")\n",
    "plt.ylabel(\"Training Loss\")\n",
    "plt.show()\n",
    "\n",
    "x = list(range(1, epochs + 1))\n",
    "y = quarter_model_nll_test_errors\n",
    "plt.plot(x, y)\n",
    "plt.scatter(x, y)\n",
    "plt.title(\"Quarter Input: Test Loss over Epoch\")\n",
    "plt.xlabel(\"Epoch\")\n",
    "plt.ylabel(\"Test Loss\")\n",
    "plt.show()"
   ]
  },
  {
   "cell_type": "markdown",
   "metadata": {},
   "source": [
    "## Train on 1/8 of training data"
   ]
  },
  {
   "cell_type": "code",
   "execution_count": null,
   "metadata": {},
   "outputs": [],
   "source": [
    "# train_indices = [i[0] for i in enumerate(train_loader)]\n",
    "s = int(0.125 * len(train_indices))\n",
    "selected_indicies = np.random.choice(train_indices, size=s)\n",
    "\n",
    "# Load your model [fcNet, ConvNet, Net]\n",
    "eighth = MyConvNet()\n",
    "epochs = 15\n",
    "\n",
    "# Try different optimzers here [Adam, SGD, RMSprop]\n",
    "optimizer = optim.RMSprop(eighth.parameters(), lr=0.001)\n",
    "\n",
    "# Set your learning rate scheduler\n",
    "scheduler = StepLR(optimizer, step_size=step, gamma=gamma)\n",
    "\n",
    "eighth_model_training_errors = []\n",
    "eighth_model_nll_test_errors = []\n",
    "eighth_model_ce_test_errors = []\n",
    "\n",
    "# Training loop\n",
    "for epoch in range(1, epochs + 1):\n",
    "    train_loss = ce_train(eighth, aug_train_loader, optimizer, epoch, log_interval, selected_indicies)\n",
    "    test_loss_nll, test_loss_ce, _, _ = ce_test(eighth, aug_val_loader, subset_indices_valid) \n",
    "    \n",
    "    eighth_model_training_errors.append(train_loss)\n",
    "    eighth_model_nll_test_errors.append(test_loss_nll)\n",
    "    eighth_model_ce_test_errors.append(test_loss_ce)\n",
    "    \n",
    "    scheduler.step()    # learning rate scheduler\n",
    "\n",
    "    # You may optionally save your model at each epoch here\n",
    "\n",
    "if save_model:\n",
    "    torch.save(eighth.state_dict(), \"mnist_model4_eighth.pt\")\n",
    "    \n",
    "    "
   ]
  },
  {
   "cell_type": "markdown",
   "metadata": {},
   "source": [
    "## Test and Visualize Results"
   ]
  },
  {
   "cell_type": "code",
   "execution_count": null,
   "metadata": {},
   "outputs": [],
   "source": [
    "test(eighth, train_loader, subset_indices_valid) \n",
    "test(eighth, test_loader, subset_indices_valid) \n",
    "\n",
    "x = list(range(1, epochs + 1))\n",
    "y = eighth_model_training_errors\n",
    "plt.plot(x, y)\n",
    "plt.scatter(x, y)\n",
    "plt.title(\"Eighth Input: Training Loss over Epoch\")\n",
    "plt.xlabel(\"Epoch\")\n",
    "plt.ylabel(\"Training Loss\")\n",
    "plt.show()\n",
    "\n",
    "x = list(range(1, epochs + 1))\n",
    "y = eighth_model_nll_test_errors\n",
    "plt.plot(x, y)\n",
    "plt.scatter(x, y)\n",
    "plt.title(\"Eighth Input: Test Loss over Epoch\")\n",
    "plt.xlabel(\"Epoch\")\n",
    "plt.ylabel(\"Test Loss\")\n",
    "plt.show()"
   ]
  },
  {
   "cell_type": "markdown",
   "metadata": {},
   "source": [
    "## Train on 1/16 of Training Data"
   ]
  },
  {
   "cell_type": "code",
   "execution_count": null,
   "metadata": {},
   "outputs": [],
   "source": [
    "# train_indices = [i[0] for i in enumerate(train_loader)]\n",
    "s = int(0.0625 * len(train_indices))\n",
    "selected_indicies = np.random.choice(train_indices, size=s)\n",
    "\n",
    "# Load your model [fcNet, ConvNet, Net]\n",
    "sixteen = MyConvNet()\n",
    "epochs = 15\n",
    "\n",
    "# Try different optimzers here [Adam, SGD, RMSprop]\n",
    "optimizer = optim.RMSprop(sixteen.parameters(), lr=0.001)\n",
    "\n",
    "# Set your learning rate scheduler\n",
    "scheduler = StepLR(optimizer, step_size=step, gamma=gamma)\n",
    "\n",
    "sixteen_model_training_errors = []\n",
    "sixteen_model_nll_test_errors = []\n",
    "sixteen_model_ce_test_errors = []\n",
    "\n",
    "# Training loop\n",
    "for epoch in range(1, epochs + 1):\n",
    "    train_loss = ce_train(sixteen, aug_train_loader, optimizer, epoch, log_interval, selected_indicies)\n",
    "    test_loss_nll, test_loss_ce, _, _ = ce_test(sixteen, aug_val_loader, subset_indices_valid) \n",
    "    \n",
    "    sixteen_model_training_errors.append(train_loss)\n",
    "    sixteen_model_nll_test_errors.append(test_loss_nll)\n",
    "    sixteen_model_ce_test_errors.append(test_loss_ce)\n",
    "    \n",
    "    scheduler.step()    # learning rate scheduler\n",
    "\n",
    "    # You may optionally save your model at each epoch here\n",
    "\n",
    "if save_model:\n",
    "    torch.save(sixteen.state_dict(), \"mnist_model4_sixteen.pt\")\n",
    "    \n",
    "    "
   ]
  },
  {
   "cell_type": "markdown",
   "metadata": {},
   "source": [
    "## Test and visualize results"
   ]
  },
  {
   "cell_type": "code",
   "execution_count": null,
   "metadata": {},
   "outputs": [],
   "source": [
    "test(sixteen, train_loader, subset_indices_valid) \n",
    "test(sixteen, test_loader, subset_indices_valid) \n",
    "\n",
    "x = list(range(1, epochs + 1))\n",
    "y = sixteen_model_training_errors\n",
    "plt.plot(x, y)\n",
    "plt.scatter(x, y)\n",
    "plt.title(\"Sixteen Input: Training Loss over Epoch\")\n",
    "plt.xlabel(\"Epoch\")\n",
    "plt.ylabel(\"Training Loss\")\n",
    "plt.show()\n",
    "\n",
    "x = list(range(1, epochs + 1))\n",
    "y = sixteen_model_nll_test_errors\n",
    "plt.plot(x, y)\n",
    "plt.scatter(x, y)\n",
    "plt.title(\"Sixteen Input: Test Loss over Epoch\")\n",
    "plt.xlabel(\"Epoch\")\n",
    "plt.ylabel(\"Test Loss\")\n",
    "plt.show()"
   ]
  }
 ],
 "metadata": {
  "kernelspec": {
   "display_name": "Python 3",
   "language": "python",
   "name": "python3"
  },
  "language_info": {
   "codemirror_mode": {
    "name": "ipython",
    "version": 3
   },
   "file_extension": ".py",
   "mimetype": "text/x-python",
   "name": "python",
   "nbconvert_exporter": "python",
   "pygments_lexer": "ipython3",
   "version": "3.7.7"
  }
 },
 "nbformat": 4,
 "nbformat_minor": 4
}
